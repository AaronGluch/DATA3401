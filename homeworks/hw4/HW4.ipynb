{
 "cells": [
  {
   "cell_type": "code",
   "execution_count": 3,
   "id": "fd5f0558",
   "metadata": {},
   "outputs": [],
   "source": [
    "#Homework 4\n",
    "#Data 3401; class #26258\n",
    "#Aaron Alexaner Gluch\n",
    "#1001806336 / aag6336"
   ]
  },
  {
   "cell_type": "code",
   "execution_count": 4,
   "id": "0030b1b1",
   "metadata": {},
   "outputs": [
    {
     "name": "stdout",
     "output_type": "stream",
     "text": [
      "0.24894777997569387\n"
     ]
    }
   ],
   "source": [
    "#Functions problem 1:\n",
    "\n",
    "import math\n",
    "\n",
    "def gaussian(x):\n",
    "    mu = 0\n",
    "    sigma = 2\n",
    "    fx = (1/math.sqrt(2*math.pi*sigma))*math.exp(-0.5*((x-mu)/sigma)**2)\n",
    "    return fx\n",
    "\n",
    "x = 1\n",
    "print(gaussian(x))"
   ]
  },
  {
   "cell_type": "code",
   "execution_count": 7,
   "id": "9f4aa1d8",
   "metadata": {},
   "outputs": [
    {
     "data": {
      "text/plain": [
       "False"
      ]
     },
     "execution_count": 7,
     "metadata": {},
     "output_type": "execute_result"
    }
   ],
   "source": [
    "#Functions problem 2:\n",
    "def is_even(x): return x % 2 == 0\n",
    "is_even(3)"
   ]
  },
  {
   "cell_type": "code",
   "execution_count": 16,
   "id": "1936fa2a",
   "metadata": {},
   "outputs": [
    {
     "name": "stdout",
     "output_type": "stream",
     "text": [
      "Enter an integer number: 13\n",
      "5\n",
      "Enter an integer number: 13\n",
      "5\n",
      "Enter an integer number: 500\n",
      "Enter an integer number: 500\n",
      "Enter an integer number: 500\n",
      "Enter an integer number: 500\n",
      "Enter an integer number: 500\n",
      "Enter an integer number: 500\n",
      "Enter an integer number: 500\n",
      "Enter an integer number: 500\n",
      "1.25 s ± 557 ms per loop (mean ± std. dev. of 7 runs, 1 loop each)\n",
      "Enter an integer number: 500\n",
      "Enter an integer number: 500\n",
      "Enter an integer number: 500\n",
      "Enter an integer number: 500\n",
      "Enter an integer number: 500\n",
      "Enter an integer number: 500\n",
      "Enter an integer number: 500\n",
      "Enter an integer number: 500\n",
      "1.02 s ± 246 ms per loop (mean ± std. dev. of 7 runs, 1 loop each)\n"
     ]
    }
   ],
   "source": [
    "#Functions problem 3:\n",
    "\n",
    "def is_prime(n):\n",
    "    is_prime = True\n",
    "    def is_divisible(n,divisor):\n",
    "        if n<(divisor-1)*divisor: return False\n",
    "        if n%divisor==0: return True\n",
    "        else:\n",
    "            divisor += 1\n",
    "            return is_divisible(n,divisor)\n",
    "    if n==2:\n",
    "        is_prime = True\n",
    "    elif is_divisible(n,divisor=2):\n",
    "        is_prime = False\n",
    "    return is_prime\n",
    "\n",
    "def get_num_primes(n):\n",
    "    user_input = int(input(\"Enter an integer number: \"))\n",
    "    num_primes = 0\n",
    "    def count_primes(n):\n",
    "        nonlocal num_primes\n",
    "        if n <= 2:\n",
    "            return num_primes\n",
    "        else:\n",
    "            if is_prime(n-1):\n",
    "                num_primes += 1\n",
    "            return count_primes(n-1)\n",
    "    return count_primes(user_input)\n",
    "\n",
    "print(get_num_primes(13))\n",
    "\n",
    "#Functions problem 3a:\n",
    "\n",
    "def is_prime_for(n):\n",
    "    is_prime = True\n",
    "    if n == 2:\n",
    "        is_prime = True\n",
    "    else:\n",
    "        for divisor in range(2, int(n**0.5)+1):\n",
    "            if n % divisor == 0:\n",
    "                is_prime = False\n",
    "                break\n",
    "    return is_prime\n",
    "\n",
    "def get_num_primes_for(n):\n",
    "    user_input = int(input(\"Enter an integer number: \"))\n",
    "    num_primes = 0\n",
    "    for i in range(2, user_input):\n",
    "        if is_prime_for(i):\n",
    "            num_primes += 1\n",
    "    return num_primes\n",
    "\n",
    "print(get_num_primes_for(13))\n",
    "\n",
    "#Functions problem 3b:\n",
    "#get_num_primes_for() is faster than get_num_primes().\n",
    "%timeit get_num_primes(500)\n",
    "%timeit get_num_primes_for(500)"
   ]
  },
  {
   "cell_type": "code",
   "execution_count": null,
   "id": "21cbaf85",
   "metadata": {},
   "outputs": [],
   "source": []
  }
 ],
 "metadata": {
  "kernelspec": {
   "display_name": "Python 3 (ipykernel)",
   "language": "python",
   "name": "python3"
  },
  "language_info": {
   "codemirror_mode": {
    "name": "ipython",
    "version": 3
   },
   "file_extension": ".py",
   "mimetype": "text/x-python",
   "name": "python",
   "nbconvert_exporter": "python",
   "pygments_lexer": "ipython3",
   "version": "3.10.9"
  }
 },
 "nbformat": 4,
 "nbformat_minor": 5
}
