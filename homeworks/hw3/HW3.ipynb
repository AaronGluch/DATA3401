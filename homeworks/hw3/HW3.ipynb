{
 "cells": [
  {
   "cell_type": "code",
   "execution_count": 1,
   "id": "29d607e8",
   "metadata": {},
   "outputs": [],
   "source": [
    "#Homework 3\n",
    "#Data 3401; class #26258\n",
    "#Aaron Alexaner Gluch\n",
    "#1001806336 / aag6336"
   ]
  },
  {
   "cell_type": "code",
   "execution_count": 7,
   "id": "35cadde0",
   "metadata": {
    "scrolled": true
   },
   "outputs": [
    {
     "name": "stdout",
     "output_type": "stream",
     "text": [
      "Enter the first name, last name, and the city of the person (comma-separated): test, test2, test3\n"
     ]
    }
   ],
   "source": [
    "#Variables problem 3a:\n",
    "\n",
    "first, last, city = tuple(input(\"Enter the first name, last name, and the city of the person (comma-separated): \").replace(\" \", \"\").lower().split(\",\"))"
   ]
  },
  {
   "cell_type": "code",
   "execution_count": 17,
   "id": "76976e42",
   "metadata": {},
   "outputs": [
    {
     "data": {
      "text/plain": [
       "'j is not in [0,1,2]'"
      ]
     },
     "execution_count": 17,
     "metadata": {},
     "output_type": "execute_result"
    }
   ],
   "source": [
    "#Variables problem 3b:\n",
    "\n",
    "def dummy(i): return i if i in [0,1,2] else 'j is not in [0,1,2]'\n",
    "dummy(1.5)"
   ]
  },
  {
   "cell_type": "code",
   "execution_count": 19,
   "id": "c0d687ff",
   "metadata": {},
   "outputs": [
    {
     "name": "stdout",
     "output_type": "stream",
     "text": [
      "    C     F\n",
      "  -20  -4.0\n",
      "  -15   5.0\n",
      "  -10  14.0\n",
      "   -5  23.0\n",
      "    0  32.0\n",
      "    5  41.0\n",
      "   10  50.0\n",
      "   15  59.0\n",
      "   20  68.0\n",
      "   25  77.0\n",
      "   30  86.0\n",
      "   35  95.0\n",
      "   40 104.0\n"
     ]
    }
   ],
   "source": [
    "#Looping problem 1:\n",
    "\n",
    "def convertTempFor(tempVec, conversionType):\n",
    "    if conversionType == 'F2C':\n",
    "        for i in range(len(tempVec)):\n",
    "            tempVec[i] = (tempVec[i] - 32) * 5/9\n",
    "    elif conversionType == 'C2F':\n",
    "        for i in range(len(tempVec)):\n",
    "            tempVec[i] = tempVec[i] * 9/5 + 32\n",
    "    else:\n",
    "        print(\"Error: Invalid conversion type.\")\n",
    "        return None\n",
    "    return tempVec\n",
    "\n",
    "def convertTempWhile(tempVec, conversionType):\n",
    "    i = 0\n",
    "    if conversionType == 'F2C':\n",
    "        while i < len(tempVec):\n",
    "            tempVec[i] = (tempVec[i] - 32) * 5/9\n",
    "            i += 1\n",
    "    elif conversionType == 'C2F':\n",
    "        while i < len(tempVec):\n",
    "            tempVec[i] = tempVec[i] * 9/5 + 32\n",
    "            i += 1\n",
    "    else:\n",
    "        print(\"Error: Invalid conversion type.\")\n",
    "        return None\n",
    "    return tempVec\n",
    "\n",
    "def convertTempVec(tempVec, conversionType):\n",
    "    if conversionType == 'F2C':\n",
    "        return (np.array(tempVec) - 32) * 5/9\n",
    "    elif conversionType == 'C2F':\n",
    "        return np.array(tempVec) * 9/5 + 32\n",
    "    else:\n",
    "        print(\"Error: Invalid conversion type.\")\n",
    "        return None\n",
    "    \n",
    "Cdegrees = [-20, -15, -10, -5, 0, 5, 10, 15, 20, 25, 30, 35, 40]\n",
    "print ('    C     F')\n",
    "i = 0\n",
    "while i < len(Cdegrees):\n",
    "    C = Cdegrees[i]\n",
    "    F = (9.0/5)*C + 32\n",
    "    print ('%5d %5.1f' % (C, F))\n",
    "    i += 1"
   ]
  },
  {
   "cell_type": "code",
   "execution_count": 21,
   "id": "678e4bf6",
   "metadata": {},
   "outputs": [
    {
     "name": "stdout",
     "output_type": "stream",
     "text": [
      "[0, 1, 2, 3, 4, 5, 6, 7, 8, 9]\n",
      "n=0, del 5 [0, 1, 2, 3, 4, 6, 7, 8, 9]\n",
      "n=1, del 4 [0, 1, 2, 3, 6, 7, 8, 9]\n",
      "n=2, del 4 [0, 1, 2, 3, 7, 8, 9]\n",
      "n=3, del 3 [0, 1, 2, 7, 8, 9]\n",
      "n=8, del 3 [0, 1, 2, 8, 9]\n"
     ]
    }
   ],
   "source": [
    "#Looping problem 2:\n",
    "\n",
    "numbers = list(range(10))\n",
    "print(numbers)\n",
    "\n",
    "for n in numbers:\n",
    "    i = len(numbers)//2\n",
    "    del numbers[i]\n",
    "    print ('n={}, del {}'.format(n,i), numbers)\n",
    "    \n",
    "#The loop deletes elements from the middle of the list it uses to iterate as it's iterating, and the line \n",
    "#\"i = len(numbers)//2\" directs it to do so in such a manner that the 5th element in the numbers list is 8 by the time that \n",
    "#the loop gets to the 5th iteration.\n"
   ]
  },
  {
   "cell_type": "code",
   "execution_count": 25,
   "id": "217b85fe",
   "metadata": {},
   "outputs": [
    {
     "name": "stdout",
     "output_type": "stream",
     "text": [
      "final eps: 1.1102230246251565e-16\n"
     ]
    }
   ],
   "source": [
    "#Looping problem 3:\n",
    "\n",
    "eps = 1.0\n",
    "while 1.0 != 1.0 + eps:\n",
    "    #print ('...............', eps)\n",
    "    eps /= 2.0\n",
    "print ('final eps:', eps)\n",
    "\n",
    "#Floating point numbers have a minimum value (in this case the code finds that it's 2.220446049250313e-16), and so\n",
    "#this is the smallest value for which floating point numbers can be incremented. If you try to increment floating point\n",
    "#numbers by a value smaller than this, it will just round to the nearest representable floating point number, which in this\n",
    "#case means that 1.0 + 1.1102230246251565e-16 is closer to 1.0 than it is to 1.0 + 2.220446049250313e-16, and so python\n",
    "#just evaluates it as 1.0."
   ]
  },
  {
   "cell_type": "code",
   "execution_count": 31,
   "id": "3eba7a5e",
   "metadata": {},
   "outputs": [],
   "source": [
    "#Looping problem 4:\n",
    "\n",
    "#from math import sqrt\n",
    "#for n in range(1, 60):\n",
    "#    r_org = 2.0\n",
    "#    r = r_org\n",
    "#    for i in range(n):\n",
    "#        r = sqrt(r)\n",
    "#    for i in range(n):\n",
    "#        r = r ** 2\n",
    "#    print ('With {} times sqrt and then {} times **2, the number {} becomes: {:.16f}'.format(n,n,r_org,r))\n",
    "\n",
    "#The smallest representable floating point number is 2.220446049250313e-16, and all representable floating point numbers \n",
    "#are thus some multiple of 2.220446049250313e-16, and anything more precise will thus be rounded to the nearest multiple. \n",
    "#of 2.220446049250313e-16. As 2 it taken to smaller and smaller roots, more and more digits are rounded off, and so \n",
    "#applying the inverse operations of the rounded numbers produces greater and greater absolute deviations from 2, until the \n",
    "#nth root of 2 is closer to 1.0 than it is to 1.0 + 2.220446049250313e-16, at which point the nth root of 2 rounds to 1, \n",
    "#and 1 taken to any power is 1."
   ]
  },
  {
   "cell_type": "code",
   "execution_count": 2,
   "id": "0d1308e8",
   "metadata": {},
   "outputs": [
    {
     "name": "stdout",
     "output_type": "stream",
     "text": [
      "Please enter a non-negative integer or type stop: 10\n",
      "fib(10) = 55\n",
      "average runtime: 0.0 seconds\n",
      "Please enter a non-negative integer or type stop: 15\n",
      "fib(15) = 610\n",
      "average runtime: 0.0 seconds\n",
      "Please enter a non-negative integer or type stop: 20\n",
      "fib(20) = 6765\n",
      "average runtime: 0.0 seconds\n",
      "Please enter a non-negative integer or type stop: 25\n",
      "fib(25) = 75025\n",
      "average runtime: 0.0 seconds\n",
      "Please enter a non-negative integer or type stop: 30\n",
      "fib(30) = 832040\n",
      "average runtime: 0.0 seconds\n",
      "Please enter a non-negative integer or type stop: 35\n",
      "fib(35) = 9227465\n",
      "average runtime: 0.0 seconds\n",
      "Please enter a non-negative integer or type stop: stop\n"
     ]
    }
   ],
   "source": [
    "#Looping problem 5a:\n",
    "\n",
    "#from time import process_time\n",
    "\n",
    "#def fib():\n",
    "#    total_time = 0\n",
    "#    num_calls = 0\n",
    "#    def getFib(n):\n",
    "#        nonlocal total_time\n",
    "#        nonlocal num_calls\n",
    "#        start = process_time()\n",
    "#        if n == 0:\n",
    "#            result = 0\n",
    "#        elif n == 1:\n",
    "#            result = 1\n",
    "#        else: \n",
    "#            result = getFib(n-1) + getFib(n-2)\n",
    "#        end = process_time()\n",
    "#        total_time += end - start\n",
    "#        num_calls += 1\n",
    "#        return(result)\n",
    "#    while True:\n",
    "#        val = input(\"Please enter a non-negative integer or type stop: \")\n",
    "#        if val == \"stop\":\n",
    "#            break\n",
    "#        try:\n",
    "#            n = int(val)\n",
    "#        except:\n",
    "#            print(\"Invalid input\")\n",
    "#            continue\n",
    "#        if n < 0:\n",
    "#            print(\"Invalid input\")\n",
    "#            continue\n",
    "#        print(\"fib({}) = {}\".format(n, getFib(n)))\n",
    "#        if num_calls > 0:\n",
    "#            print(\"average runtime: {} seconds\".format(total_time / num_calls))\n",
    "            \n",
    "#fib()\n",
    "\n",
    "#Looping problem 5b:\n",
    "\n",
    "from time import process_time\n",
    "\n",
    "def fibLoop():\n",
    "    total_time = 0\n",
    "    num_calls = 0\n",
    "    def getFib(n):\n",
    "        nonlocal total_time\n",
    "        nonlocal num_calls\n",
    "        start = process_time()\n",
    "        if n == 0:\n",
    "            result = 0\n",
    "        elif n == 1:\n",
    "            result = 1\n",
    "        else: \n",
    "            a = 0 \n",
    "            b = 1 \n",
    "            for i in range(2, n + 1):\n",
    "                result = a + b \n",
    "                a = b \n",
    "                b = result \n",
    "        end = process_time()\n",
    "        total_time += end - start\n",
    "        num_calls += 1\n",
    "        return(result)\n",
    "    while True:\n",
    "        val = input(\"Please enter a non-negative integer or type stop: \")\n",
    "        if val == \"stop\":\n",
    "            break\n",
    "        try:\n",
    "            n = int(val)\n",
    "        except:\n",
    "            print(\"Invalid input\")\n",
    "            continue\n",
    "        if n < 0:\n",
    "            print(\"Invalid input\")\n",
    "            continue\n",
    "        print(\"fib({}) = {}\".format(n, getFib(n)))\n",
    "        if num_calls > 0:\n",
    "            print(\"average runtime: {} seconds\".format(total_time / num_calls))\n",
    "            \n",
    "fibLoop()\n",
    "\n",
    "#Looping problem 5c:\n",
    "\n",
    "#Performance for both functions with those inputs was as follows:\n",
    "\n",
    "#fib()\n",
    "#Please enter a non-negative integer or type stop: 10\n",
    "#fib(10) = 55\n",
    "#average runtime: 2.1319079096045262e-05 seconds\n",
    "#Please enter a non-negative integer or type stop: 15\n",
    "#fib(15) = 610\n",
    "#average runtime: 3.217708558139545e-05 seconds\n",
    "#Please enter a non-negative integer or type stop: \n",
    "#20fib(20) = 6765\n",
    "#average runtime: 3.881258046670306e-05 seconds\n",
    "#Please enter a non-negative integer or type stop: 25\n",
    "#fib(25) = 75025\n",
    "#average runtime: 4.353055695471993e-05 seconds\n",
    "#Please enter a non-negative integer or type stop: 30\n",
    "#fib(30) = 832040\n",
    "#average runtime: 5.599022154667144e-05 seconds\n",
    "#Please enter a non-negative integer or type stop: 35\n",
    "#fib(35) = 9227465\n",
    "#average runtime: 6.715631133382023e-05 seconds\n",
    "\n",
    "#fibLoop()\n",
    "#Please enter a non-negative integer or type stop: 10\n",
    "#fib(10) = 55\n",
    "#average runtime: 1.968700000000434e-05 seconds\n",
    "#Please enter a non-negative integer or type stop: 15\n",
    "#fib(15) = 610\n",
    "#average runtime: 1.8200500000002673e-05 seconds\n",
    "#Please enter a non-negative integer or type stop: 20\n",
    "#fib(20) = 6765\n",
    "#average runtime: 1.6861333333333117e-05 seconds\n",
    "#Please enter a non-negative integer or type stop: 25\n",
    "#fib(25) = 75025\n",
    "#average runtime: 1.68622499999993e-05 seconds\n",
    "#Please enter a non-negative integer or type stop: 30\n",
    "#fib(30) = 832040\n",
    "#average runtime: 1.6613799999999624e-05 seconds\n",
    "#Please enter a non-negative integer or type stop: 35\n",
    "#fib(35) = 9227465\n",
    "#average runtime: 1.660383333333219e-05 seconds\n",
    "\n",
    "#So, fibLoop() was definitely faster and more efficient than fib(). Why I think this is, is that fib() uses recursion, \n",
    "#which means it repeatedly calls itself with increasingly-smaller arguments until it reaches a base case. This creates lots \n",
    "#of overhead in terms of time & memory, as each recursive call needs to be stored until the result is returned."
   ]
  },
  {
   "cell_type": "code",
   "execution_count": 1,
   "id": "1bb5448a",
   "metadata": {},
   "outputs": [
    {
     "name": "stdout",
     "output_type": "stream",
     "text": [
      "abcdefgh\n"
     ]
    }
   ],
   "source": [
    "#Looping problem 6:\n",
    "q = [['a', 'b', 'c'], ['d', 'e', 'f'], ['g', 'h']]\n",
    "def extr(str):\n",
    "    s = \"\"\n",
    "    for i in range(len(str)):\n",
    "        for j in range(len(str[i])):\n",
    "            s += str[i][j]\n",
    "    return s\n",
    "print(extr(q))"
   ]
  },
  {
   "cell_type": "code",
   "execution_count": null,
   "id": "379a3692",
   "metadata": {},
   "outputs": [],
   "source": []
  },
  {
   "cell_type": "code",
   "execution_count": null,
   "id": "e6a03170",
   "metadata": {},
   "outputs": [],
   "source": []
  }
 ],
 "metadata": {
  "kernelspec": {
   "display_name": "Python 3 (ipykernel)",
   "language": "python",
   "name": "python3"
  },
  "language_info": {
   "codemirror_mode": {
    "name": "ipython",
    "version": 3
   },
   "file_extension": ".py",
   "mimetype": "text/x-python",
   "name": "python",
   "nbconvert_exporter": "python",
   "pygments_lexer": "ipython3",
   "version": "3.10.9"
  }
 },
 "nbformat": 4,
 "nbformat_minor": 5
}
