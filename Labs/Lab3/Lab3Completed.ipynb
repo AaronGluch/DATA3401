{
 "cells": [
  {
   "cell_type": "markdown",
   "metadata": {},
   "source": [
    "# <center>Lab 3 &ndash; DATA 3401 (Spring 2023)</center>\n",
    "\n",
    "## Name: Aaron Alexander Gluch \n",
    "## ID: 1001806336 / aag6336\n",
    "## Class #: 26258\n",
    "## Lab Date: 3/3\n",
    "## Due Date 3/10 (before the beginning of lab)\n",
    "\n",
    "## Lab Description\n",
    "The purpose of this lab is for you to gain practice with conditionals and loops as we have discussed in lecture\n",
    "\n",
    "In all exercises below, if you are able, please try to write a function, but I will accept you writing a script instead without penalty.  "
   ]
  },
  {
   "cell_type": "markdown",
   "metadata": {},
   "source": [
    "## Exercise\n",
    "- As in the previous lab, copy and paste the cells below into a jupyter notebook titled Lab 3\n",
    "- Solve the problems and push them to a new Lab 3 folder in your GitHub repo prior to the deadline"
   ]
  },
  {
   "cell_type": "markdown",
   "metadata": {},
   "source": [
    "## Problem 1:\n",
    "Write a function/script that reads takes a string and returns True if the string is a palindrome. (A palindrome is a string that reads the same forwards and backwards, like 'racecar' or 'tacocat'.) "
   ]
  },
  {
   "cell_type": "code",
   "execution_count": 21,
   "metadata": {},
   "outputs": [],
   "source": [
    "# Write your function here\n",
    "def is_palindrome(string):\n",
    "    n = len(string)\n",
    "    for i in range(n):\n",
    "        if i >= n-i-1:\n",
    "            break\n",
    "        if string[i] != string[-i-1]:\n",
    "            return False\n",
    "    return True"
   ]
  },
  {
   "cell_type": "code",
   "execution_count": 22,
   "metadata": {},
   "outputs": [
    {
     "name": "stdout",
     "output_type": "stream",
     "text": [
      "True\n",
      "False\n"
     ]
    }
   ],
   "source": [
    "# Test your function here (Note, you should test with strings that are palindromes and ones that are not)\n",
    "print(is_palindrome(\"racecar\"))\n",
    "print(is_palindrome(\"racefar\"))"
   ]
  },
  {
   "cell_type": "markdown",
   "metadata": {},
   "source": [
    "## Problem 2:\n",
    "Write a function/script that takes an integer input between 1 and 10.  If the input is 4, 5, or 6, then display a message 'Congratulations, you win the prize!'.  If the input is less than 4 or greater than 6, then display a mesage 'Sorry, try again.'  If the input is less than 1, greater than 10, or not an integer, display a message 'Invalid input, please input an integer between 1 and 10'."
   ]
  },
  {
   "cell_type": "code",
   "execution_count": 23,
   "metadata": {},
   "outputs": [],
   "source": [
    "# Write your function here\n",
    "def prize(n):\n",
    "    if not isinstance(n, int):\n",
    "        print('Invalid input, please input an integer between 1 and 10')\n",
    "    elif n == 4 or n == 5 or n == 6:\n",
    "        print('Congratulations, you win the prize!')\n",
    "    elif n >= 1 and n <= 10:\n",
    "        print('Sorry, try again.')\n",
    "    else:\n",
    "        print('Invalid input, please input an integer between 1 and 10')"
   ]
  },
  {
   "cell_type": "code",
   "execution_count": 24,
   "metadata": {},
   "outputs": [
    {
     "name": "stdout",
     "output_type": "stream",
     "text": [
      "Invalid input, please input an integer between 1 and 10\n",
      "Congratulations, you win the prize!\n",
      "Sorry, try again.\n",
      "Invalid input, please input an integer between 1 and 10\n"
     ]
    }
   ],
   "source": [
    "# Test your function here (Note, you should test all possible cases for completeness)\n",
    "prize(4.5)\n",
    "prize(4)\n",
    "prize(2)\n",
    "prize(-5)"
   ]
  },
  {
   "cell_type": "markdown",
   "metadata": {},
   "source": [
    "### Problem 3:\n",
    "Write two functions `even(x)` and `odd(x)` (or scripts; these do not need to be named) that test if an integer x is even (or odd), and returns `True` if x is even (or odd) and `False` otherwise. Test both of your functions for correctness in the second and third cells below"
   ]
  },
  {
   "cell_type": "code",
   "execution_count": 16,
   "metadata": {},
   "outputs": [],
   "source": [
    "# Write your functions here\n",
    "def even(x):\n",
    "    if abs(x) == (x * x) ** (1/2):\n",
    "        return True\n",
    "    else: False\n",
    "\n",
    "def odd(x):\n",
    "    if even(x) == True:\n",
    "        return False\n",
    "    else: True"
   ]
  },
  {
   "cell_type": "code",
   "execution_count": 17,
   "metadata": {},
   "outputs": [
    {
     "data": {
      "text/plain": [
       "True"
      ]
     },
     "execution_count": 17,
     "metadata": {},
     "output_type": "execute_result"
    }
   ],
   "source": [
    "# Test your even function here\n",
    "even(2)"
   ]
  },
  {
   "cell_type": "code",
   "execution_count": 18,
   "metadata": {},
   "outputs": [
    {
     "data": {
      "text/plain": [
       "False"
      ]
     },
     "execution_count": 18,
     "metadata": {},
     "output_type": "execute_result"
    }
   ],
   "source": [
    "# Test your odd function here\n",
    "odd(2)"
   ]
  },
  {
   "cell_type": "markdown",
   "metadata": {},
   "source": [
    "### Problem 4:\n",
    "Write a function/script that takes in a list of numbers, and outputs the maximum number in the list."
   ]
  },
  {
   "cell_type": "code",
   "execution_count": 14,
   "metadata": {},
   "outputs": [],
   "source": [
    "# Write your function here\n",
    "def maximum(x):\n",
    "    test = x[0]\n",
    "    for i in range(len(x)):\n",
    "        if x[i] > test:\n",
    "            test = x[i]\n",
    "    return test"
   ]
  },
  {
   "cell_type": "code",
   "execution_count": 15,
   "metadata": {},
   "outputs": [
    {
     "data": {
      "text/plain": [
       "3"
      ]
     },
     "execution_count": 15,
     "metadata": {},
     "output_type": "execute_result"
    }
   ],
   "source": [
    "# Test your function here (Note: test it on a list where the numbers are not in order)\n",
    "maximum([1,2,3])"
   ]
  },
  {
   "cell_type": "markdown",
   "metadata": {},
   "source": [
    "### Problem 5:\n",
    "Write a function/script that takes a list of numbers as input and returns a list of the subset of elements that are less that 10. Test your solution."
   ]
  },
  {
   "cell_type": "code",
   "execution_count": 12,
   "metadata": {},
   "outputs": [],
   "source": [
    "# Write your function here\n",
    "def under_ten(x):\n",
    "    output = []\n",
    "    for i in range(len(x)):\n",
    "        if x[i] < 10:\n",
    "            output.append(x[i])\n",
    "    return output"
   ]
  },
  {
   "cell_type": "code",
   "execution_count": 13,
   "metadata": {},
   "outputs": [
    {
     "data": {
      "text/plain": [
       "[1, 4, 5]"
      ]
     },
     "execution_count": 13,
     "metadata": {},
     "output_type": "execute_result"
    }
   ],
   "source": [
    "# Test your function here\n",
    "under_ten([1,4,5,10,11])"
   ]
  },
  {
   "cell_type": "markdown",
   "metadata": {},
   "source": [
    "### Problem 6: \n",
    "Write a function/script that takes a number `x_max` as input and returns a function that performs the same task as Problem 5, but for `x_max` instead of 10."
   ]
  },
  {
   "cell_type": "code",
   "execution_count": 10,
   "metadata": {},
   "outputs": [],
   "source": [
    "# Write your function here\n",
    "def x_max(x, y):\n",
    "    output = []\n",
    "    for i in range(len(y)):\n",
    "        if y[i] < x:\n",
    "            output.append(y[i])\n",
    "    return output"
   ]
  },
  {
   "cell_type": "code",
   "execution_count": 11,
   "metadata": {},
   "outputs": [
    {
     "data": {
      "text/plain": [
       "[1, 4, 6, 10, 11, 17]"
      ]
     },
     "execution_count": 11,
     "metadata": {},
     "output_type": "execute_result"
    }
   ],
   "source": [
    "# Test your function here\n",
    "x_max(20, [1,4,6,10,11,17,20,21,30])"
   ]
  },
  {
   "cell_type": "markdown",
   "metadata": {},
   "source": [
    "### Problem 7:\n",
    "Write a function/script that takes an integer and returns all its divisors (for example, the divisors of 18 are 1, 2, 3, 6, 9, and 18)"
   ]
  },
  {
   "cell_type": "code",
   "execution_count": 8,
   "metadata": {},
   "outputs": [],
   "source": [
    "# Write your function here\n",
    "def divisors(x):\n",
    "    input = x\n",
    "    output = []\n",
    "    for i in range(input):\n",
    "        if input % (i + 1) == 0:\n",
    "            output.append(i + 1)\n",
    "    return output"
   ]
  },
  {
   "cell_type": "code",
   "execution_count": 9,
   "metadata": {
    "scrolled": true
   },
   "outputs": [
    {
     "name": "stdout",
     "output_type": "stream",
     "text": [
      "[1, 2, 3, 6, 9, 18]\n"
     ]
    }
   ],
   "source": [
    "# Test your function here\n",
    "print(divisors(18))"
   ]
  },
  {
   "cell_type": "markdown",
   "metadata": {},
   "source": [
    "### Problem 8:\n",
    "A recursive sequence is obtained as follows. $a_0 = 1$, $a_1 = 2$, and for a given integer n, $a_n = 2a_{n-1}-a_{n-2}$. Write a function or script that computes $a_n$ for a given integer n. Note that $a_2 = 4-1 = 3$, for example. Test your function with $n = 5$, $n= 10$, and $n = 12$."
   ]
  },
  {
   "cell_type": "code",
   "execution_count": 4,
   "metadata": {},
   "outputs": [],
   "source": [
    "# Write your function here\n",
    "def recursive(n):\n",
    "    lst = [1,2]\n",
    "    while len(lst) < n:\n",
    "        lst.append((2 * lst[-1]) - lst[-2])\n",
    "    return(lst[n - 1])\n",
    "    "
   ]
  },
  {
   "cell_type": "code",
   "execution_count": 5,
   "metadata": {},
   "outputs": [
    {
     "name": "stdout",
     "output_type": "stream",
     "text": [
      "3\n"
     ]
    }
   ],
   "source": [
    "# Test your function here\n",
    "print(recursive(3))"
   ]
  },
  {
   "cell_type": "markdown",
   "metadata": {},
   "source": [
    "## Problem 9:\n",
    "Write a Rock-Paper-Scissors game function/script, that takes 2 strings, the inputs of player 1 and player 2, and output 1 or 2 corresponding to which player wins, or 0 if draw. (You may find the `input` command useful: `a = input(\"Player 1 move\")`) \n",
    "\n",
    "Implement a Rock-Paper-Scissors game by soliciting input from 2 players, testing with this function.\n",
    "\n",
    "Remember the rules:\n",
    "\n",
    "- Rock beats scissors\n",
    "- Scissors beats paper\n",
    "- Paper beats rock"
   ]
  },
  {
   "cell_type": "code",
   "execution_count": 6,
   "metadata": {},
   "outputs": [],
   "source": [
    "# Write your function here\n",
    "def RPS(p1,p2):\n",
    "    if (p1 != 'rock' and p1 != 'paper' and p1 != 'scissors') or (p2 != 'rock' and p2 != 'paper' and p2 != 'scissors'):\n",
    "        return \"Invalid input.\"\n",
    "    result = 0\n",
    "    if p1 == p2:\n",
    "        result = 0\n",
    "    elif (p1 == 'rock' and p2 == 'scissors') or (p1 == 'paper' and p2 == 'rock') or (p1 == 'scissors' and p2 == 'paper'):\n",
    "        result = 1\n",
    "    else:\n",
    "        result = 2\n",
    "    if result == 0:\n",
    "        return \"Draw.\"\n",
    "    elif result == 1:\n",
    "        return \"Player 1 wins.\"\n",
    "    else:\n",
    "        return \"Player 2 wins.\""
   ]
  },
  {
   "cell_type": "code",
   "execution_count": 7,
   "metadata": {},
   "outputs": [
    {
     "name": "stdout",
     "output_type": "stream",
     "text": [
      "Player 1 move: rock\n",
      "Player 2 move: paper\n",
      "Player 2 wins.\n"
     ]
    }
   ],
   "source": [
    "# Test your function here (Note, you should test all possible cases for completeness)\n",
    "p1 = input(\"Player 1 move: \")\n",
    "p2 = input(\"Player 2 move: \")\n",
    "print(RPS(p1,p2))"
   ]
  },
  {
   "cell_type": "code",
   "execution_count": null,
   "metadata": {},
   "outputs": [],
   "source": []
  }
 ],
 "metadata": {
  "kernelspec": {
   "display_name": "Python 3 (ipykernel)",
   "language": "python",
   "name": "python3"
  },
  "language_info": {
   "codemirror_mode": {
    "name": "ipython",
    "version": 3
   },
   "file_extension": ".py",
   "mimetype": "text/x-python",
   "name": "python",
   "nbconvert_exporter": "python",
   "pygments_lexer": "ipython3",
   "version": "3.10.9"
  }
 },
 "nbformat": 4,
 "nbformat_minor": 2
}
