{
 "cells": [
  {
   "cell_type": "markdown",
   "metadata": {},
   "source": [
    "# <center>Lab 2 &ndash; DATA 3401 (Spring 2023)</center>\n",
    "\n",
    "## Name: Aaron Alexander Gluch \n",
    "## ID: 1001806336 / aag6336\n",
    "## Class #: 26258\n",
    "\n",
    "## Lab Date: 2/10\n",
    "## Due Date 2/17 (before the beginning of Lab)\n",
    "\n",
    "## Lab Description\n",
    "The purpose of this lab is for you to\n",
    "- Install Python\n",
    "- Learn to create Jupyter notebooks\n",
    "- Make your first Jupyter notebook with some basic programs"
   ]
  },
  {
   "cell_type": "markdown",
   "metadata": {},
   "source": [
    "## Task 1 &ndash; Installing Python and Anaconda\n",
    "[python](https://www.python.org/downloads/)\n",
    "[anaconda](https://www.anaconda.com/products/distribution)"
   ]
  },
  {
   "cell_type": "markdown",
   "metadata": {},
   "source": [
    "## Task 2 &ndash; Creating your first Jupyter notebook (Ubuntu)\n",
    "1. Open an Ubuntu terminal and navigate to your desired folder (e.g., 'cd /mnt/c/users/username/DATA3401')\n",
    "    - For this course, your folder should most likely be your local GitHub repo\n",
    "1. Once in the folder, type the following command: `jupyter notebook --no-browser`\n",
    "1. You should see a set of two urls. Select one of them using your mouse$^\\ast$; copy the url with `ctrl+shift+c`; paste the url into a web browser (`ctrl+v`)\n",
    "    - $^\\ast$If this does not work for you, right click on the top bar of the terminal and go to Properties. Then make sure your options match these\n",
    "    \n",
    "    <img src=\"TerminalProperties.png\" alt=\"Image Missing\" width=\"300\"/>\n",
    "    \n",
    "1. You should now see a file system open in your browser\n",
    "1. Navigate to folder that is linked to your GitHub repo for this course (if you didn't already do this in step 1)\n",
    "1. Once inside the folder, click \"New\" and select \"Python 3\" under the Notebook heading\n",
    "1. You should now have a jupyter notebook open in a new tab of your browser"
   ]
  },
  {
   "cell_type": "markdown",
   "metadata": {},
   "source": [
    "## Task 2 &ndash; Creating your first Jupyter notebook (Mac)\n",
    "1. Open a commant terminal and navigate to your desired folder (e.g., 'cd /mnt/c/users/username/DATA3401')\n",
    "    - For this course, your folder should most likely be your local GitHub repo\n",
    "1. In your command terminal, type `jupyter notebook`\n",
    "1. This *should* open a browser window with the jupyter file system in it\n",
    "1. You should now see a file system open in your browser\n",
    "1. Navigate to folder that is linked to your GitHub repo for this course (if you didn't already do this in step 1)\n",
    "1. Once inside the folder, click \"New\" and select \"Python 3\" under the Notebook heading\n",
    "1. You should now have a jupyter notebook open in a new tab of your browser"
   ]
  },
  {
   "cell_type": "markdown",
   "metadata": {},
   "source": [
    "## Exercise 1 &ndash; Creating your first simple program\n",
    "1. In the jupyter notebook that you just made, type the simple command `print('Hello World')` and run the cell by pressing `shift+enter`\n",
    "1. Title your notebook \"HelloWorld\", and add it to your GitHub repo in your Lab2 folder.\n",
    "1. Push all changes to your repo"
   ]
  },
  {
   "cell_type": "markdown",
   "metadata": {},
   "source": [
    "## Exercise 2 &ndash; Basic Python programming\n",
    "1. Create a new jupyter notebook in the same manner as before, and title it Lab2\n",
    "1. Copy and paste the cells below into your new notebook and add your solutions to each problem\n",
    "1. Once finished, and before the deadline, push your notebook with the solutions to the folder for Lab 2 in your GitHub repo\n",
    "    - Reminder: the TA and I will look at the last version of your repo committed to GitHub before the deadline"
   ]
  },
  {
   "cell_type": "markdown",
   "metadata": {},
   "source": [
    "### Problem 1: \n",
    "Write a script that defines two strings: your first name and last name, and prints them in reverse order with a space between them."
   ]
  },
  {
   "cell_type": "code",
   "execution_count": null,
   "metadata": {},
   "outputs": [],
   "source": [
    "# Your solution here\n",
    "first = 'Aaron'\n",
    "last = 'Gluch'\n",
    "def rev(s1, s2):\n",
    "    input = [s1, s2]\n",
    "    input = ''.join(input)\n",
    "    input = list(input)\n",
    "    input = input[::-1]\n",
    "    output = []\n",
    "    for i in range(len(input)):\n",
    "        output += input[i] + ' '\n",
    "    return ''.join(output)\n",
    "                   \n",
    "print(rev(first,last))"
   ]
  },
  {
   "cell_type": "markdown",
   "metadata": {},
   "source": [
    "### Problem 2: \n",
    "Write a print command that displays the following (replace all my information with yours)\n",
    "\n",
    "My name is Keaton Hamm\\\n",
    "I am a Math major\\\n",
    "------------------------\\\n",
    "This is my Python string"
   ]
  },
  {
   "cell_type": "code",
   "execution_count": null,
   "metadata": {},
   "outputs": [],
   "source": [
    "# Your solution here\n",
    "name = 'Aaron Gluch'\n",
    "major = 'Data Science'\n",
    "def pcmd(n, m):\n",
    "    output = \"My name is \" + n + \"\\nI am a \" + m + \" major\\n------------------------\\nThis is my Python string\"\n",
    "    print(output)\n",
    "\n",
    "pcmd(name, major)"
   ]
  },
  {
   "cell_type": "markdown",
   "metadata": {},
   "source": [
    "### Problem 3:\n",
    "Think about what the results would be for the following expressions, and then type them into the terminal to verify your answers. Briefly explain the results for each one."
   ]
  },
  {
   "cell_type": "code",
   "execution_count": null,
   "metadata": {},
   "outputs": [],
   "source": [
    "1/2 #0.5; 0.5 * 2 = 1\n",
    "int(1/2) #0; drops everything after decimal\n",
    "int(9/10) #0; drops everything after decimal\n",
    "-5**2 #-25; 5 * 5 = 25, and ** is Python's exponent operator, but Python recognizes -5 as a multiplication operation rather than a single integer, and so, following the order of operations, 5**2, as an exponent, is executed first, and the answer is multiplied by -1 to produce -25.\n",
    "(-5) ** 2  #25; 5 * 5 = 25, and ** is Python's exponent operator\n",
    "10-6/2  #7; 6 is multiplied by -1 and then divided by 2, and the result is then subtracted from 10 due to be written after 10 without any sort of operator to separate them.\n",
    "5*4/2*3 #30; Python follows the common core order of operations, under which multiplication and division are considered equivalent, and so 30 is produced by performing the operations from left ot right.\n",
    "5*4/2**2*3 #15; exponents come first in the common core order of operations, after which the expression becomes 5*4/4*3; from there, following the common core operations evaluates the operators from left to right, producing 15.\n",
    "2^10 #8; ^ is Python's bitwise XOR operator, and so produces unexpected results when confused with **. What x ^ y does is it converts integers x & y to binary, considers 0 to be false and 1 to be true, and then for any given binary digit of the output, the XOR operation is computed upon the inputs to produce it. From there, the output is converted back from binary. XOR in the boolean case returns True if both boolean inputs are the same, and false otherwise."
   ]
  },
  {
   "cell_type": "markdown",
   "metadata": {},
   "source": [
    "### Problem 4:\n",
    "Write code that will print your name 10 times but without you writing your name out 10 times."
   ]
  },
  {
   "cell_type": "code",
   "execution_count": 2,
   "metadata": {},
   "outputs": [
    {
     "name": "stdout",
     "output_type": "stream",
     "text": [
      "Aaron Alexander Gluch\n",
      "Aaron Alexander Gluch\n",
      "Aaron Alexander Gluch\n",
      "Aaron Alexander Gluch\n",
      "Aaron Alexander Gluch\n",
      "Aaron Alexander Gluch\n",
      "Aaron Alexander Gluch\n",
      "Aaron Alexander Gluch\n",
      "Aaron Alexander Gluch\n",
      "Aaron Alexander Gluch\n"
     ]
    }
   ],
   "source": [
    "# Your solution here\n",
    "# Your solution here\n",
    "def p_ten(x):\n",
    "    for i in range(10):\n",
    "        print(x)\n",
    "\n",
    "p_ten('Aaron Alexander Gluch')"
   ]
  },
  {
   "cell_type": "markdown",
   "metadata": {},
   "source": [
    "## Problem 5:\n",
    "Define the list `x = [1,2,3,4,'a','b','c','d']`\n",
    "1. Use list indexing commands to print every other element of the list starting with 2\n",
    "1. Use list indexing commands to print every third element of the list starting at 'd' and going backward\n",
    "1. Use list indexing commands to print elements 4 through 'c'"
   ]
  },
  {
   "cell_type": "code",
   "execution_count": 5,
   "metadata": {},
   "outputs": [
    {
     "name": "stdout",
     "output_type": "stream",
     "text": [
      "[2, 4, 'b', 'd']\n"
     ]
    }
   ],
   "source": [
    "# Your solution to part 1 here\n",
    "x = [1,2,3,4,'a','b','c','d']\n",
    "result = x[1::2]\n",
    "print(result)"
   ]
  },
  {
   "cell_type": "code",
   "execution_count": 4,
   "metadata": {},
   "outputs": [
    {
     "name": "stdout",
     "output_type": "stream",
     "text": [
      "['d', 'a', 2]\n"
     ]
    }
   ],
   "source": [
    "# Your solution to part 2 here\n",
    "x = [1,2,3,4,'a','b','c','d']\n",
    "result = x[-1::-3]\n",
    "print(result)"
   ]
  },
  {
   "cell_type": "code",
   "execution_count": 3,
   "metadata": {},
   "outputs": [
    {
     "name": "stdout",
     "output_type": "stream",
     "text": [
      "[4, 'a', 'b', 'c']\n"
     ]
    }
   ],
   "source": [
    "# Your solution to part 3 here\n",
    "x = [1,2,3,4,'a','b','c','d']\n",
    "result = x[3:-1]\n",
    "print(result)"
   ]
  },
  {
   "cell_type": "code",
   "execution_count": null,
   "metadata": {},
   "outputs": [],
   "source": []
  }
 ],
 "metadata": {
  "kernelspec": {
   "display_name": "Python 3 (ipykernel)",
   "language": "python",
   "name": "python3"
  },
  "language_info": {
   "codemirror_mode": {
    "name": "ipython",
    "version": 3
   },
   "file_extension": ".py",
   "mimetype": "text/x-python",
   "name": "python",
   "nbconvert_exporter": "python",
   "pygments_lexer": "ipython3",
   "version": "3.10.9"
  }
 },
 "nbformat": 4,
 "nbformat_minor": 2
}
