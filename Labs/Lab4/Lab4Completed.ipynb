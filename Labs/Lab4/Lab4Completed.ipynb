{
 "cells": [
  {
   "cell_type": "markdown",
   "id": "8c5f772d",
   "metadata": {},
   "source": [
    "# <center>Lab 4 &ndash; DATA 3401 (Spring 2023)</center>\n",
    "\n",
    "## Name: Aaron Alexander Gluch \n",
    "## ID: 1001806336 / aag6336\n",
    "## Class #: 26258\n",
    "## Lab Dates: 3/22\n",
    "\n",
    "## Lab Description\n",
    "The purpose of this lab is for you to have more practice with functions, loops, and conditionals in Python"
   ]
  },
  {
   "cell_type": "markdown",
   "id": "fbebca18",
   "metadata": {},
   "source": [
    "## Exercise 1\n",
    "Write a function that takes in a list and outputs a list with the elements in reverse order **without using a command like `lst[::-1]`**.  "
   ]
  },
  {
   "cell_type": "code",
   "execution_count": 1,
   "id": "77c803ee",
   "metadata": {},
   "outputs": [],
   "source": [
    "# Write your function here\n",
    "def list_reverse(lst):\n",
    "    output = []\n",
    "    for i in range(len(lst)):\n",
    "        output.extend([lst[-i-1]])\n",
    "    return(output)"
   ]
  },
  {
   "cell_type": "code",
   "execution_count": 2,
   "id": "92004b0e",
   "metadata": {},
   "outputs": [
    {
     "name": "stdout",
     "output_type": "stream",
     "text": [
      "[6, 5, 4, 3, 2, 1]\n"
     ]
    }
   ],
   "source": [
    "# Test your function here\n",
    "print(list_reverse([1,2,3,4,5,6]))"
   ]
  },
  {
   "cell_type": "markdown",
   "id": "16b720a3",
   "metadata": {},
   "source": [
    "## Exercise 2\n",
    "\n",
    "Write a function that takes in a string `str` and **without using string manipulation like `str[::-1]`** outputs a string with the characters of `str` in reverse order.  For example, if the input is `Hello`, then the output should be `olleH`.\n",
    "\n",
    "There are many ways to do this, but you may find the command `list('Hello')` (change Hello to any string) useful. You may also find your solution to Exercise 1 helpful."
   ]
  },
  {
   "cell_type": "code",
   "execution_count": 3,
   "id": "780071c0",
   "metadata": {},
   "outputs": [],
   "source": [
    "# Write your function here\n",
    "def string_reverse(string):\n",
    "    output = []\n",
    "    for i in range(len(string)):\n",
    "        output.append(string[-i-1])\n",
    "    return(''.join(output))"
   ]
  },
  {
   "cell_type": "code",
   "execution_count": 4,
   "id": "0f71d85f",
   "metadata": {},
   "outputs": [
    {
     "name": "stdout",
     "output_type": "stream",
     "text": [
      "olleh\n"
     ]
    }
   ],
   "source": [
    "# Test your function here\n",
    "print(string_reverse('hello'))"
   ]
  },
  {
   "cell_type": "markdown",
   "id": "3cabf70d",
   "metadata": {},
   "source": [
    "## Exercise 3\n",
    "Write a function that computes the first $n$ *twin primes* for a given positive integer $n$.  Twin primes are consecutive prime numbers separated by 2. The first few twin primes are (3,5) (5,7) (11,13), (17,19), and so on.\n",
    "Test your function for $n = 4, 10,$ and $20$."
   ]
  },
  {
   "cell_type": "code",
   "execution_count": 5,
   "id": "07f14562",
   "metadata": {},
   "outputs": [],
   "source": [
    "# Write your function here\n",
    "def next_prime(lst):\n",
    "    output = lst[:]\n",
    "    test = max(lst) + 1\n",
    "    while output == lst:\n",
    "        is_prime = 1\n",
    "        for i in range(len(lst)):\n",
    "            if (test % lst[i-1]) == 0:\n",
    "                is_prime = 0\n",
    "                break\n",
    "        if is_prime == 0:\n",
    "            test += 1\n",
    "        else: \n",
    "            output.append(test)\n",
    "    return(output)\n",
    "\n",
    "def is_twin(lst):\n",
    "    if (lst[1] - lst[0]) == 2:\n",
    "        return 1\n",
    "    else: return 0\n",
    "\n",
    "def twin_primes(n):\n",
    "    twin_list = []\n",
    "    prime_list = [2]\n",
    "    while len(twin_list) < n:\n",
    "        prime_list = next_prime(prime_list)\n",
    "        test_twin = [prime_list[-2],prime_list[-1]]\n",
    "        if is_twin(test_twin) == 1:\n",
    "            twin_list.append(test_twin)\n",
    "    return twin_list"
   ]
  },
  {
   "cell_type": "code",
   "execution_count": 6,
   "id": "a9b32035",
   "metadata": {},
   "outputs": [
    {
     "name": "stdout",
     "output_type": "stream",
     "text": [
      "[[3, 5], [5, 7], [11, 13], [17, 19]]\n"
     ]
    }
   ],
   "source": [
    "# Test your function here\n",
    "print(twin_primes(4))"
   ]
  },
  {
   "cell_type": "markdown",
   "id": "28274b1b",
   "metadata": {},
   "source": [
    "## Exercise 4\n",
    "Write a function that takes in a list of lists (such as `[[1,2,3],[0,1,0],[4,2,4]]`) where each sublist has the same number of elements, then draws a board like the one below, but where each empty space has the corresponding element of the list.  \n",
    "\n",
    "The list above would result in the following:\n",
    "```\n",
    "   --- --- --- \n",
    "  | 1 | 2 | 3 | \n",
    "   --- --- ---  \n",
    "  | 0 | 1 | 0 | \n",
    "   --- --- ---  \n",
    "  | 4 | 2 | 4 | \n",
    "   --- --- --- \n",
    "   ```"
   ]
  },
  {
   "cell_type": "code",
   "execution_count": 7,
   "id": "10131aee",
   "metadata": {},
   "outputs": [],
   "source": [
    "# Write your function here\n",
    "def gen_grid(lst):\n",
    "    grid = ''\n",
    "    for row in lst:\n",
    "        grid += ' '\n",
    "        for i in range(len(row)):\n",
    "            grid += '--- '\n",
    "        grid += '\\n'\n",
    "        for cell in row:\n",
    "            grid += '| ' + str(cell) + ' '\n",
    "        grid += '|\\n'\n",
    "    grid += ' '\n",
    "    for i in range(len(lst[0])):\n",
    "        grid += '--- '\n",
    "    grid += '\\n'\n",
    "    return grid"
   ]
  },
  {
   "cell_type": "code",
   "execution_count": 8,
   "id": "3e49136c",
   "metadata": {},
   "outputs": [
    {
     "name": "stdout",
     "output_type": "stream",
     "text": [
      " --- --- --- \n",
      "| 1 | 2 | 3 |\n",
      " --- --- --- \n",
      "| 0 | 1 | 0 |\n",
      " --- --- --- \n",
      "| 4 | 2 | 4 |\n",
      " --- --- --- \n",
      "\n"
     ]
    }
   ],
   "source": [
    "# Test your function here\n",
    "g = [[1,2,3],[0,1,0],[4,2,4]]\n",
    "print(gen_grid(g))"
   ]
  },
  {
   "cell_type": "markdown",
   "id": "b8d58656",
   "metadata": {},
   "source": [
    "## Exercise 5\n",
    "Write a function that takes in a list of lists of size $n\\times n$ and checks if the diagonal consists of all the same number.  For example, `[[2,2,3],[0,2,1],[1,1,2]]` would yield a result of `True`, whereas the array in Exercise 4 would produce a result of `False`"
   ]
  },
  {
   "cell_type": "code",
   "execution_count": 9,
   "id": "9f9dd241",
   "metadata": {},
   "outputs": [],
   "source": [
    "# Write your function here\n",
    "def diag_test(lst):\n",
    "    n = len(lst)\n",
    "    d = lst[0][0]\n",
    "    t = 1\n",
    "    for i in range(n):\n",
    "        if lst[i][i] != d:\n",
    "            t = 0\n",
    "    if t == 1:\n",
    "        return True\n",
    "    else:\n",
    "        return False"
   ]
  },
  {
   "cell_type": "code",
   "execution_count": 11,
   "id": "d118586d",
   "metadata": {},
   "outputs": [
    {
     "name": "stdout",
     "output_type": "stream",
     "text": [
      "False\n",
      "True\n"
     ]
    }
   ],
   "source": [
    "# Test your function here\n",
    "print(diag_test([[1,2,3],[0,1,0],[4,2,4]]))\n",
    "print(diag_test([[1,2,3],[0,1,0],[4,2,1]]))"
   ]
  },
  {
   "cell_type": "markdown",
   "id": "bbb601e3",
   "metadata": {},
   "source": [
    "## Exercise 6\n",
    "Write 3 functions that take in a list of lists of size $n\\times n$ with each entry being either 0 or 1. \n",
    "1. The first function `row_winner()` will return `True` if any row has all the same entries (for example `[[1,1,1],[1,0,1],[0,0,0]]` and `False` otherwise.\n",
    "1. The second function `col_winner()` will return `True` if any column has all the same entries and `False` otherwise.\n",
    "1. The third function `diagonal_winner()` will return `True` if the diagonal or anti-diagonal has all the same entries and `False` otherwise. (For example `[[1,0,1],[0,1,1],[1,0,0]]` has an anti-diagonal of all 1s."
   ]
  },
  {
   "cell_type": "code",
   "execution_count": 12,
   "id": "1a7ccd49",
   "metadata": {},
   "outputs": [],
   "source": [
    "# Write your functions here\n",
    "def row_winner(lst):\n",
    "    for row in lst:\n",
    "        t = 1\n",
    "        for cell in row:\n",
    "            if cell != row[0]:\n",
    "                t = 0\n",
    "        if t == 1:\n",
    "            return True\n",
    "    return False\n",
    "\n",
    "def col_winner(lst):\n",
    "    n = len(lst)\n",
    "    for i in range(n):\n",
    "        col = [lst[j][i] for j in range(n)]\n",
    "        t = 1\n",
    "        for cell in col:\n",
    "            if cell != col[0]:\n",
    "                t = 0\n",
    "        if t == 1:\n",
    "            return True\n",
    "    return False\n",
    "\n",
    "def diagonal_winner(lst):\n",
    "    n = len(lst)\n",
    "    diagonal = [lst[i][i] for i in range(n)]\n",
    "    anti_diagonal = [lst[i][n-i-1] for i in range(n)]\n",
    "    t = 1\n",
    "    for cell in diagonal:\n",
    "        if cell != diagonal[0]:\n",
    "            t = 0\n",
    "    if t == 1:\n",
    "        return True\n",
    "    t = 1\n",
    "    for cell in anti_diagonal:\n",
    "        if cell != anti_diagonal[0]:\n",
    "            t = 0\n",
    "    if t == 1:\n",
    "        return True\n",
    "    return False"
   ]
  },
  {
   "cell_type": "code",
   "execution_count": 13,
   "id": "bd898c44",
   "metadata": {},
   "outputs": [
    {
     "name": "stdout",
     "output_type": "stream",
     "text": [
      "False\n",
      "False\n",
      "True\n",
      "False\n",
      "False\n",
      "False\n",
      "True\n",
      "True\n",
      "False\n"
     ]
    }
   ],
   "source": [
    "# Test your functions here\n",
    "lst1 = [[1,0,1],[0,1,1],[1,0,0]]\n",
    "print(row_winner(lst1)) # False\n",
    "print(col_winner(lst1)) # False\n",
    "print(diagonal_winner(lst1)) # True\n",
    "\n",
    "lst2 = [[1,0,0],[0,1,1],[1,0,0]]\n",
    "print(row_winner(lst2)) # False\n",
    "print(col_winner(lst2)) # False\n",
    "print(diagonal_winner(lst2)) # False\n",
    "\n",
    "lst3 = [[1,1,1],[1,1,1],[0,1,0]]\n",
    "print(row_winner(lst3)) # True\n",
    "print(col_winner(lst3)) # True\n",
    "print(diagonal_winner(lst3)) #False"
   ]
  },
  {
   "cell_type": "code",
   "execution_count": null,
   "id": "2637a1aa",
   "metadata": {},
   "outputs": [],
   "source": []
  }
 ],
 "metadata": {
  "kernelspec": {
   "display_name": "Python 3 (ipykernel)",
   "language": "python",
   "name": "python3"
  },
  "language_info": {
   "codemirror_mode": {
    "name": "ipython",
    "version": 3
   },
   "file_extension": ".py",
   "mimetype": "text/x-python",
   "name": "python",
   "nbconvert_exporter": "python",
   "pygments_lexer": "ipython3",
   "version": "3.10.9"
  }
 },
 "nbformat": 4,
 "nbformat_minor": 5
}
