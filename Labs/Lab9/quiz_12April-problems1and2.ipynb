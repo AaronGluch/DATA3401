{
 "cells": [
  {
   "cell_type": "markdown",
   "id": "b1e672e3",
   "metadata": {},
   "source": [
    "# <center>Lab 9 &ndash; DATA 3401 (Fall 2022)</center>\n",
    "\n",
    "## Lab Date: 11/11\n",
    "## Due Date 1/18 (before the beginning of lab)\n",
    "\n",
    "## Lab Description\n",
    "The purpose of this lab is for you to become more familiar with reading and writing .txt files"
   ]
  },
  {
   "cell_type": "markdown",
   "id": "266ca2b4",
   "metadata": {},
   "source": [
    "## Exercise 1\n",
    "\n",
    "1. Download the file `Shakespeare.txt` from this folder of the course repo into your Lab9 folder. \n",
    "1. Open the file in read mode, and print the file one line at a time in your notebook (get rid of any extra line breaks if they appear)\n",
    "1. Write a function that takes a single character string input argument that counts the number of times that character appears in the text file (that is, `count_char(char)` should return the number of times `char` appears in the file, where `char` could be `a`, `b`, `c`, ...)\n",
    "1. Using your function from the previous part, count the number of times a, e, ', and '&nbsp;' (the space character) appear in the document. Display the counts nicely with print statements. "
   ]
  },
  {
   "cell_type": "code",
   "execution_count": 47,
   "id": "b3cad8fb",
   "metadata": {},
   "outputs": [
    {
     "name": "stdout",
     "output_type": "stream",
     "text": [
      "So is it not with me as with that Mus\n",
      "Stirr'd by a painted beauty to his verse\n",
      "Who heaven itself for ornament doth us\n",
      "And every fair with his fair doth rehears\n",
      "Making a couplement of proud compare\n",
      "With sun and moon, with earth and sea's rich gems\n",
      "With April's first-born flowers, and all things rar\n",
      "That heaven's air in this huge rondure hems\n",
      "O' let me, true in love, but truly write\n",
      "And then believe me, my love is as fai\n",
      "As any mother's child, though not so brigh\n",
      "As those gold candles fix'd in heaven's air\n",
      "Let them say more than like of hearsay well\n",
      "I will not praise that purpose not to sel\n",
      "29\n",
      "35\n",
      "54\n",
      "8\n",
      "103\n"
     ]
    }
   ],
   "source": [
    "# Write your solutions here\n",
    "f = open('labs/lab9/Shakespeare.txt', 'r')\n",
    "contents = f.readlines()\n",
    "for i in range(len(contents)):\n",
    "    print(contents[i][:-2])\n",
    "\n",
    "len(contents[2])  \n",
    "\n",
    "    \n",
    "\n",
    "\n",
    "def count_char(c):\n",
    "    count = 0\n",
    "    nlines = len(contents)\n",
    "    for i in range(nlines):\n",
    "        for j in range(len(contents[i])):\n",
    "            if contents[i][j] == c:\n",
    "                count += 1\n",
    "    return count\n",
    "\n",
    "print(count_char('n'))\n",
    "print(count_char('a'))\n",
    "print(count_char('e'))\n",
    "print(count_char(\"'\"))\n",
    "print(count_char(\" \"))"
   ]
  },
  {
   "cell_type": "markdown",
   "id": "c57e3b5d",
   "metadata": {},
   "source": [
    "## Exercise 2\n",
    "\n",
    "1. Write a function that takes in three arguments `string`, `char`, `replacement`, that replaces every instance of `char` in `string` with `replacement`.  For example, `replace('Hello','l','!')` would return `He!!o`.  Note, you may use your function from the midterm as a starting point.\n",
    "1. Capture the text from `Shakespeare.txt`, and replace all of the character 'a' with '#'\n",
    "1. Write the new text to a new file called `Shakespeare_modified.txt`"
   ]
  },
  {
   "cell_type": "code",
   "execution_count": 49,
   "id": "7868f952",
   "metadata": {},
   "outputs": [],
   "source": [
    "# Write your solutions here\n",
    "def replace(string, char, replacement):\n",
    "    new_string = ''\n",
    "    for i in range(len(string)):\n",
    "        if string[i] == char:\n",
    "            new_string += replacement\n",
    "        else:\n",
    "            new_string += string[i]\n",
    "    return new_string\n",
    "\n",
    "with open('labs/lab9/Shakespeare.txt', 'r') as f:\n",
    "    contents = f.read()\n",
    "\n",
    "new_contents = replace(contents, 'a', '#')\n",
    "\n",
    "with open('labs/lab9/Shakespeare_modified.txt', 'w') as f:\n",
    "    f.write(new_contents)"
   ]
  },
  {
   "cell_type": "markdown",
   "id": "33068a69",
   "metadata": {},
   "source": [
    "## Exercise 3\n",
    "\n",
    "1. Write a function that takes an integer input argument `n`, opens the `Shakespeare.txt` file, and creates a list of all words in the file whose length is less than or equal to `n`.\n",
    "1. Test your function with `n=2, 4, 6`. For each `n`, you should print out the full list."
   ]
  },
  {
   "cell_type": "code",
   "execution_count": null,
   "id": "ce8f33aa",
   "metadata": {},
   "outputs": [],
   "source": [
    "# Write your solutions here\n"
   ]
  }
 ],
 "metadata": {
  "kernelspec": {
   "display_name": "Python 3 (ipykernel)",
   "language": "python",
   "name": "python3"
  },
  "language_info": {
   "codemirror_mode": {
    "name": "ipython",
    "version": 3
   },
   "file_extension": ".py",
   "mimetype": "text/x-python",
   "name": "python",
   "nbconvert_exporter": "python",
   "pygments_lexer": "ipython3",
   "version": "3.9.13"
  }
 },
 "nbformat": 4,
 "nbformat_minor": 5
}
