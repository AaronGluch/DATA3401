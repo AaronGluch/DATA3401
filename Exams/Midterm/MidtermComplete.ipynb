{
 "cells": [
  {
   "cell_type": "markdown",
   "id": "9913d12b",
   "metadata": {},
   "source": [
    " # <center>Midterm Exam &ndash; DATA 3401 (Spring 2023)</center>\n",
    "\n",
    "## Name: Aaron Alexander Gluch\n",
    "## ID: 1001806336 / aag6336\n",
    "## Class #26258 sec 001\n",
    "\n",
    "## Start Date: 3/27\n",
    "## Due Date for Exercises 1 and 2:    3/27 (at 2:15pm))\n",
    "## Due Date: for Exercises 3, 4 and 5:     23/29 (at 12:59pm))\n",
    "\n",
    "## Midterm Rules\n",
    "\n",
    "This midterm exam is essentially like a short-term lab. Please work the exercises below **on your own**.   \n",
    "\n",
    "**You should push your answer for Exercises 1 and 2 by the end of Monday's class, 3/27, at 2:15 pm in your GitHub repo for this class as **Midterm-part1** in the **Exam** folder. The rest of the exam is a take-home exam, and you have time up to Wednesday, 3/29, at 12:59. When you have completed the take-home exam, you should again push your completed jupyter notebook to your GitHub repo for this class as **Midterm-part2** in the **Exam** folder.\n",
    "\n",
    "\n",
    "You may not discuss the problems with **anyone else**, including persons on an online internet forum. Consulting an outside source like this will be considered an academic integrity violation.\n",
    "\n",
    "You may use all class resources including previous labs and lectures, and anything posted on the course webpage.\n",
    "\n",
    "You may not use any function that trivializes a problem. For example, if I ask you to write a `max` function that computes the maximum entry in a list, you are not allowed to use the pre-defined Python function `max`; you must write your own."
   ]
  },
  {
   "cell_type": "markdown",
   "id": "dbe7db65",
   "metadata": {},
   "source": [
    "## Exercise 1\n",
    "1. Write a script or function that asks the user to input 3 numbers (floats or ints), and output the product of the 3 numbers.\n",
    "    1. You may use the `input()` function to take user input, or you may write a function with 3 input arguments without using `input()`\n",
    "1. Your code should display an error message if one of the inputs is not a number.\n",
    "1. Test your code on the following inputs:  \n",
    "    1. (5, -10, 20.0)\n",
    "    1. (1, \"blah\", 5)"
   ]
  },
  {
   "cell_type": "code",
   "execution_count": 2,
   "id": "52bc748d",
   "metadata": {},
   "outputs": [],
   "source": [
    "## Write your code here\n",
    "\n",
    "def trivproduct(a, b, c):\n",
    "    if ((isinstance(a, int) or isinstance(a, float)) and (isinstance(b, int) or isinstance(b, float)) and (isinstance(c, int) or isinstance(c, float))) == True:\n",
    "        return (a * b * c)\n",
    "    else: return \"Error: At least one of the inputs is neither an integer nor a float, try again.\""
   ]
  },
  {
   "cell_type": "code",
   "execution_count": 3,
   "id": "9c7e73ec",
   "metadata": {},
   "outputs": [
    {
     "name": "stdout",
     "output_type": "stream",
     "text": [
      "-1000.0\n",
      "Error: At least one of the inputs is neither an integer nor a float, try again.\n"
     ]
    }
   ],
   "source": [
    "## Test your code here\n",
    "print(trivproduct(5, -10, 20.0))\n",
    "print(trivproduct(1, \"blah\", 5))"
   ]
  },
  {
   "cell_type": "markdown",
   "id": "82b8368e",
   "metadata": {},
   "source": [
    "## Exercise 2\n",
    "1. Write a function which takes a list as input and outputs the largest **integer** entry. If there is none, return `None`.\n",
    "1. Test your function on the following lists\n",
    "    1. \\[ 1, 9, 10.2, 6, -2\\]\n",
    "    1. \\[1.2, 3/4, \"Hello World\"\\]"
   ]
  },
  {
   "cell_type": "code",
   "execution_count": 11,
   "id": "586c4abe",
   "metadata": {},
   "outputs": [],
   "source": [
    "# Write your function here\n",
    "def greatest(lst):\n",
    "    used = []\n",
    "    for i in range(len(lst)):\n",
    "        if isinstance(lst[i], int) == True:\n",
    "            used.append(lst[i])\n",
    "    if len(used) == 0:\n",
    "        return \"None\"\n",
    "    largest = used[0]\n",
    "    output = used[0]\n",
    "    count = 0\n",
    "    for i in range(len(used)):\n",
    "        if used[i] > largest:\n",
    "            largest = used[i]\n",
    "    for i in range(len(used)):\n",
    "        if used[i] == largest:\n",
    "            count += 1\n",
    "    if count > 1:\n",
    "        return \"None\"\n",
    "    else: return largest\n",
    "            "
   ]
  },
  {
   "cell_type": "code",
   "execution_count": 12,
   "id": "c01d73b0",
   "metadata": {},
   "outputs": [
    {
     "data": {
      "text/plain": [
       "'None'"
      ]
     },
     "execution_count": 12,
     "metadata": {},
     "output_type": "execute_result"
    }
   ],
   "source": [
    "# Test your function here\n",
    "greatest([1, 9, 10.2, 6, -2])\n",
    "greatest([1.2, 3/4, \"Hello World\"])"
   ]
  },
  {
   "cell_type": "markdown",
   "id": "78622bb6",
   "metadata": {},
   "source": [
    "## Exercise 3\n",
    "Suppose the first element of a sequence is $a_0 = 1$, the second element is $a_1 = 3$, and for every $i>1$, the $i$--th element of the sequence is defined by the recursive relation $a_i = \\frac{(a_{i-1}-a_{i-2})^2}{3}$. (So $a_2 = 4/3$)\n",
    "1. Write a function which outputs the $n$--th element of this sequence for a given positive integer $n$\n",
    "2. Test your function for $n = 1, 5, 10, 15,$ and $20$"
   ]
  },
  {
   "cell_type": "code",
   "execution_count": 26,
   "id": "ceed43f2",
   "metadata": {},
   "outputs": [],
   "source": [
    "# Write your function here\n",
    "def e3(n):\n",
    "    alst = [1, 3]\n",
    "    i = 2\n",
    "    while i <= n:\n",
    "        ai = ((alst[i-1] - alst[i-2]) ** 2) / 3\n",
    "        alst.append(ai)\n",
    "        i += 1\n",
    "    return alst[n]"
   ]
  },
  {
   "cell_type": "code",
   "execution_count": 27,
   "id": "734307f2",
   "metadata": {},
   "outputs": [
    {
     "name": "stdout",
     "output_type": "stream",
     "text": [
      "n=1: 3\n",
      "n=5: 0.25264753615031454\n",
      "n=10: 3.986380447622439e-09\n",
      "n=15: 2.2496046712168145e-35\n",
      "n=20: 4.003939782244758e-285\n"
     ]
    }
   ],
   "source": [
    "# Test your function here\n",
    "test = [1, 5, 10, 15, 20]\n",
    "for n in test:\n",
    "    print(f\"n={n}: {e3(n)}\")"
   ]
  },
  {
   "cell_type": "markdown",
   "id": "5a9a5bdf",
   "metadata": {},
   "source": [
    "## Exercise 4\n",
    "1. Write a function that takes in a list of tuples, each of which contains three parts: `name, month, day` corresponding to a person's birthday, for example `('Tony Stark', 'March', 14)`. Your function should output `True` if any two people have the same birthday, and `False` if no two people have the same birthday.\n",
    "1. Test your function on the set of people `[('Thor', 'August',10), ('Phil Coulson','July',8),('T\\'Challa','November',29),('Peter Parker','August',10), ('Tony Stark', 'March', 14)]`\n",
    "1. Create your own list of people with all distinct birthdays and test your function on your list."
   ]
  },
  {
   "cell_type": "code",
   "execution_count": 28,
   "id": "1387950a",
   "metadata": {},
   "outputs": [],
   "source": [
    "# Write your functions here\n",
    "def same(lst):\n",
    "    bdays = []\n",
    "    for person in lst:\n",
    "        n, m, d = person\n",
    "        bday = (m, d)\n",
    "        if bday in bdays:\n",
    "            return True\n",
    "        else:\n",
    "            bdays.append(bday)\n",
    "    return False"
   ]
  },
  {
   "cell_type": "code",
   "execution_count": 29,
   "id": "e6036378",
   "metadata": {},
   "outputs": [
    {
     "name": "stdout",
     "output_type": "stream",
     "text": [
      "True\n",
      "False\n"
     ]
    }
   ],
   "source": [
    "# Test your functions here\n",
    "people = [('Thor', 'August',10), ('Phil Coulson','July',8),('T\\'Challa','November',29),('Peter Parker','August',10), ('Tony Stark', 'March', 14)]\n",
    "print(same(people))\n",
    "distinct = [('Sponebob', 'August',10), ('Patrick','July',8),('Squidward','November',29),('Sandy','August',11), ('Mr. Krabs', 'March', 14)]\n",
    "print(same(distinct))"
   ]
  },
  {
   "cell_type": "markdown",
   "id": "a3e7a45b",
   "metadata": {},
   "source": [
    "## Exercise 5\n",
    "For this exercise, you are *not* allowed to use the `.replace()` function or a similar single string command to complete the exercise. For example, you could make a list of the input string and then use list manipulations to complete the task.\n",
    "\n",
    "1. Write a function or script that takes in two strings, and returns the first string minus all instances of the second string. You may assume the second string is a single character.  For example, an input of \"Hello World\" where \"l\" is removed should result in \"Heo Word\".\n",
    "1. Test your function by specifying \"i\" to be removed from \"Supercalifragilisticexpialidocious\"\n",
    "\n",
    "Bonus: Modify your function to allow the second string to be more than one characer. Test your new function by specifying \"data\" to be removed from \"data 3401 introduction to python for data science\". (This should result in ' 3401 introduction to python for  science'\n",
    "\n",
    "**Example:** if your function is called `replace_string(str1,str2)`, then for part 2 you should print `replace_string('Supercalifragilisticexpialidocious','i')` and for the bonus you should print `replace_string('data 3401 introduction to python for data science','data')`"
   ]
  },
  {
   "cell_type": "code",
   "execution_count": 30,
   "id": "6bbb5673",
   "metadata": {},
   "outputs": [],
   "source": [
    "# Write your function here\n",
    "def replace_string(str1, str2):\n",
    "    output = ''\n",
    "    skipper = 0\n",
    "    for i in range(len(str1)):\n",
    "        if skipper > 0:\n",
    "            skipper -= 1\n",
    "            continue\n",
    "        if str1[i:i+len(str2)] == str2:\n",
    "            skipper = len(str2) - 1\n",
    "        else:\n",
    "            output += str1[i]\n",
    "    return output"
   ]
  },
  {
   "cell_type": "code",
   "execution_count": 31,
   "id": "fbe320cb",
   "metadata": {},
   "outputs": [
    {
     "name": "stdout",
     "output_type": "stream",
     "text": [
      "Supercalfraglstcexpaldocous\n",
      " 3401 introduction to python for  science\n"
     ]
    }
   ],
   "source": [
    "# Test your function here\n",
    "print(replace_string('Supercalifragilisticexpialidocious','i'))\n",
    "print(replace_string('data 3401 introduction to python for data science','data'))"
   ]
  },
  {
   "cell_type": "code",
   "execution_count": null,
   "id": "7794709b",
   "metadata": {},
   "outputs": [],
   "source": []
  }
 ],
 "metadata": {
  "kernelspec": {
   "display_name": "Python 3 (ipykernel)",
   "language": "python",
   "name": "python3"
  },
  "language_info": {
   "codemirror_mode": {
    "name": "ipython",
    "version": 3
   },
   "file_extension": ".py",
   "mimetype": "text/x-python",
   "name": "python",
   "nbconvert_exporter": "python",
   "pygments_lexer": "ipython3",
   "version": "3.10.9"
  }
 },
 "nbformat": 4,
 "nbformat_minor": 5
}
